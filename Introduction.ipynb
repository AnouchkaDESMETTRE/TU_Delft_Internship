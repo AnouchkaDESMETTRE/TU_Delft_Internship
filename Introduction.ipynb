{
 "cells": [
  {
   "cell_type": "markdown",
   "metadata": {},
   "source": [
    "TU Delft internship of Bordeaux ENSEIRB -MATMECA student Anouchka Desmettre \n",
    "Dates: June 1st - August 31st, 2024 \n",
    "\n",
    "Supervision: D. Lahaye (DIAM - EEMCS Faculty - TU Delft)\n",
    "\n",
    "# Title: Mathematical modelling and numerical simulation of driving buses and vibrations door   "
   ]
  },
  {
   "cell_type": "markdown",
   "metadata": {},
   "source": [
    "## 1. Introduction\n",
    "\n",
    "The sustainable growth of cities increasingly relies on public transportation, prompting major bus manufacturers such as Volvo, VDL, and Scania to explore innovative vehicle models and systems. Among these systems, bus door mechanisms play a crucial role, requiring continual refinement and optimization. \n",
    "\n",
    "In this context, numerical modeling emerges as a pivotal tool to support and enhance the design and construction of bus doors. This approach allows for detailed analysis and simulation of various door configurations, materials, and operational scenarios, facilitating informed decision-making throughout the development process.\n",
    "\n",
    "Our collaboration with Ventura, a renowned leader in bus door manufacturing, provides valuable insights into the industry's demands and challenges. Ventura's commitment to cutting-edge technology and rigorous safety standards underscores the importance of advanced modeling techniques in addressing complex engineering requirements.\n",
    "\n",
    "### 1.1 Test Scenarios\n",
    "\n",
    "We study the effect of an object falling on an elastic structure. For example, consider a sandbag test where a sandbag falls onto a door system, including both the door leaves and the door support mechanism. This simulates the impact forces and allows us to analyze how the structure responds to sudden loads.\n",
    "\n",
    "We analyze the effect of continuous or repeated forces on an elastic structure. For instance, examining a door system mounted on a shaker table or a bus driving over a test track. This helps us understand how the structure behaves under sustained or oscillatory forces.\n",
    "What We've Been Doing:\n",
    "\n",
    "By solving the differential equations of a mass-spring-damper system numerically and comparing them with analytical solutions, we are able to study the dynamic behavior of such systems under various conditions, including impacts and forced vibrations. This approach helps us understand how real-world systems like door mechanisms respond to different kinds of external forces.\n",
    "\n",
    "## 2. Definitions of Terms \n",
    "\n",
    "**Plug Sliding Door**:\n",
    "   - *Definition*: A type of sliding door mechanism commonly used in transportation vehicles such as buses and trains. The plug sliding door system typically consists of two door leaves that slide horizontally along a track, allowing for efficient ingress and egress of passengers. The term \"plug\" refers to the door leaf's ability to tightly seal against the door frame when closed, providing enhanced safety and protection against external elements.\n",
    "\n",
    "**Bus Door Leaf**:\n",
    "   - *Definition*: The individual panel or leaf that constitutes a bus door. Bus door leaves are typically constructed from lightweight yet durable materials such as aluminum or composite alloys. They serve as the primary barrier between the interior and exterior of the bus, facilitating passenger entry and exit while providing structural integrity and security.\n",
    "\n",
    "**Bus Door Suspension Mechanism**:\n",
    "   - *Definition*: The mechanical system responsible for supporting and facilitating the movement of bus door leaves. The suspension mechanism typically consists of a network of hinges, rollers, and guides that enable smooth operation of the doors while ensuring proper alignment and stability. This system may include pneumatic, hydraulic, or electromechanical components to assist in opening and closing the doors.\n",
    "\n",
    "**Upper Door Arm**:\n",
    "   - *Definition*: A structural component of the bus door suspension mechanism located at the top of the door frame. The upper door arm serves as a pivotal attachment point for the door leaf, allowing it to pivot outward or inward during the opening and closing process. It provides stability and support while guiding the movement of the door leaf along its designated trajectory.\n",
    "\n",
    "**Bottom Door Support**:\n",
    "   - *Definition*: The lowermost element of the bus door suspension mechanism, situated at the base of the door frame. The bottom door support serves as a foundation for the door leaf, preventing excessive movement or misalignment during operation. It may consist of rollers, tracks, or other guiding elements designed to ensure smooth and controlled movement of the door leaf along its intended path."
   ]
  }
 ],
 "metadata": {
  "kernelspec": {
   "display_name": "Julia 1.10.4",
   "language": "julia",
   "name": "julia-1.10"
  },
  "language_info": {
   "file_extension": ".jl",
   "mimetype": "application/julia",
   "name": "julia",
   "version": "1.10.4"
  }
 },
 "nbformat": 4,
 "nbformat_minor": 4
}
