{
 "cells": [
  {
   "cell_type": "markdown",
   "id": "61240fdb-5318-4e49-b8f2-4c6cfdd1491a",
   "metadata": {},
   "source": [
    "TU Delft internship of Bordeaux ENSEIRB -MATMECA student Anouchka Desmettre \n",
    "Dates: June 1st - August 31st, 2024 \n",
    "\n",
    "Supervision: D. Lahaye (DIAM - EEMCS Faculty - TU Delft)\n",
    "\n",
    "# Title: Mathematical modelling and numerical simulation of driving buses and vibrations door   "
   ]
  },
  {
   "cell_type": "markdown",
   "id": "2c3289dc-f06f-463a-a8c9-ab2fac5a5d20",
   "metadata": {},
   "source": [
    "## 5. Stationary Thin Beam Equation - Biharmonic Equation - Deflection \n",
    "\n",
    "The bi-harmonic equation in the context of a stationary thin beam typically describes the deflection of the beam. It can be expressed as:\n",
    "\n",
    "$$ \\Delta^2 w = f(x) $$\n",
    "$w$ is the deflection function, $f(x)$ is the distributed load, and $\\Delta^2$ denotes the bi-harmonic operator.\n",
    "\n",
    "### 5.1 Analytical Reference Solution\n",
    "\n",
    "https://github.com/ziolai/finite_element_electrical_engineering/tree/main  \n",
    "\n",
    "https://github.com/Youkrid/Youkrid.github.io \n",
    " \n",
    "\n",
    "### 5.2. Shooting Method Implementation\n",
    "\n",
    "Implementing the shooting method using `DifferentialEquations.jl` involves setting up the bi-harmonic equation as an initial value problem and solving it numerically. This method is particularly useful for boundary value problems where direct methods like finite difference or finite element might be challenging to apply directly.\n",
    "\n",
    "### 5.3 Finite Difference Method on Uniform Spatial Mesh\n",
    "\n",
    "Implementing the finite difference method on a uniform spatial mesh involves discretizing the bi-harmonic equation using second-order central differences (for accuracy) and solving the resulting system of equations iteratively. This method is straightforward to implement and can handle uniform geometries effectively.\n",
    "\n",
    "### 5.4 Finite Element Method on Non-uniform Spatial Mesh\n",
    "\n",
    "The finite element method (FEM) on a non-uniform spatial mesh requires discretizing the domain into smaller, irregular elements. This method is more versatile than finite differences for handling complex geometries and material properties but requires careful implementation of basis functions and assembly of stiffness matrices."
   ]
  },
  {
   "cell_type": "code",
   "execution_count": null,
   "id": "27166f3f-9735-49ff-88cf-672b07bdf96d",
   "metadata": {},
   "outputs": [],
   "source": []
  }
 ],
 "metadata": {
  "kernelspec": {
   "display_name": "Python 3 (ipykernel)",
   "language": "python",
   "name": "python3"
  },
  "language_info": {
   "codemirror_mode": {
    "name": "ipython",
    "version": 3
   },
   "file_extension": ".py",
   "mimetype": "text/x-python",
   "name": "python",
   "nbconvert_exporter": "python",
   "pygments_lexer": "ipython3",
   "version": "3.11.7"
  }
 },
 "nbformat": 4,
 "nbformat_minor": 5
}
