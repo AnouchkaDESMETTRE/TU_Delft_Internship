{
 "cells": [
  {
   "cell_type": "markdown",
   "id": "61240fdb-5318-4e49-b8f2-4c6cfdd1491a",
   "metadata": {},
   "source": [
    "TU Delft internship of Bordeaux ENSEIRB -MATMECA student Anouchka Desmettre \n",
    "Dates: June 1st - August 31st, 2024 \n",
    "\n",
    "Supervision: D. Lahaye (DIAM - EEMCS Faculty - TU Delft)\n",
    "\n",
    "# Title: Mathematical modelling and numerical simulation of driving buses and vibrations door   "
   ]
  },
  {
   "cell_type": "markdown",
   "id": "2c3289dc-f06f-463a-a8c9-ab2fac5a5d20",
   "metadata": {},
   "source": [
    "## 5. Stationary Thin Beam Equation - Biharmonic Equation - Deflection \n",
    "\n",
    "The bi-harmonic equation in the context of a stationary thin beam typically describes the deflection of the beam. It can be expressed as:\n",
    "\n",
    "$$ \\nabla^4 \\Phi = f \\iff \\nabla^2(\\nabla^2 \\Phi) = f $$\n",
    "Here, $\\nabla^4$ represents the biharmonic operator, $\\Phi$ represents the displacement of the beam under load. The function $f$ on the right-hand side typically corresponds to external loads or forces applied to the beam. This equation provides a comprehensive model for predicting how beams bend and flex under such forces, allowing engineers to design structures that are both strong and efficient.\n",
    "\n",
    "### 5.1 Analytical Reference Solution\n",
    "\n",
    "Source : https://en.wikipedia.org/wiki/Fundamental_solution#Biharmonic_equation \n",
    "\n",
    "The biharmonic equation can be written as:\n",
    "$$\n",
    "-\\Delta^2 \\Phi(\\mathbf{x}, \\mathbf{x}') = \\delta(\\mathbf{x} - \\mathbf{x}')\n",
    "$$\n",
    "In this equation:\n",
    "- $\\Delta^2$ is the biharmonic operator, which is the square of the Laplacian operator, $\\Delta$.\n",
    "- $\\Phi(\\mathbf{x}, \\mathbf{x}')$ is the fundamental solution.\n",
    "- $\\delta(\\mathbf{x} - \\mathbf{x}')$ is the Dirac delta function, representing a point source of influence at the position $\\mathbf{x}'$.\n",
    "\n",
    "The fundamental solutions vary depending on the dimension of the space in which the equation is solved:\n",
    "\n",
    "1. **In 2 dimensions (2D)**:\n",
    "   $$\n",
    "   \\Phi_{\\text{2D}}(\\mathbf{x}, \\mathbf{x}') = -\\frac{|\\mathbf{x} - \\mathbf{x}'|^2}{8\\pi} \\ln |\\mathbf{x} - \\mathbf{x}'|\n",
    "   $$\n",
    "   Here, the solution shows that the influence of the point source decreases logarithmically with distance and is modulated by the square of the distance.\n",
    "\n",
    "2. **In 3 dimensions (3D)**:\n",
    "   $$\n",
    "   \\Phi_{\\text{3D}}(\\mathbf{x}, \\mathbf{x}') = \\frac{|\\mathbf{x} - \\mathbf{x}'|}{8\\pi}\n",
    "   $$\n",
    "   This form indicates a decrease in the influence of the source proportional to the distance, a characteristic typical of interactions in 3 dimensions, like gravitational or electrostatic fields in free space."
   ]
  },
  {
   "cell_type": "markdown",
   "id": "965ee9b3-3db1-40ee-ba66-465e1b5588be",
   "metadata": {},
   "source": [
    "### 5.2. Shooting Method Implementation\n",
    "\n",
    "Using : https://github.com/Youkrid/Youkrid.github.io \n",
    "\n",
    "1. **What is `BoundaryValueDiffEq`?**\n",
    "\n",
    "`BoundaryValueDiffEq` is a Julia package specifically designed to solve boundary value problems (BVPs) for ordinary differential equations (ODEs). BVPs require solutions to differential equations where conditions are specified at different points, typically at the domain's boundaries, unlike initial value problems where conditions are only given at the start point.\n",
    "\n",
    "2. **Role of the Shooting Method in `BoundaryValueDiffEq`**\n",
    "\n",
    "The shooting method, implemented in the `BoundaryValueDiffEq` package, is one approach to solve BVPs. Here's how it typically works:\n",
    "- **Initial Guess**: Start with an initial guess for the unknown initial conditions at one boundary.\n",
    "- **Solve Forward**: Use an ODE solver to integrate the differential equation from one boundary to the other.\n",
    "- **Adjust Guess**: Adjust the initial conditions based on the difference between the computed endpoint and the specified boundary condition at the final boundary.\n",
    "- **Iterate**: Repeat the process, refining the initial conditions until the solution converges to satisfy the boundary conditions at both ends.\n",
    "\n",
    "The shooting method, while useful for solving boundary value problems numerically, does not directly yield the fundamental solution of the biharmonic equation in 2D, such as $\\Phi_{\\text{2D}}(\\mathbf{x}, \\mathbf{x}') = -\\frac{|\\mathbf{x} - \\mathbf{x}'|^2}{8\\pi} \\ln |\\mathbf{x} - \\mathbf{x}'|$, which is derived using analytical techniques for a point source in an infinite domain.\n",
    "\n",
    "3. **Implementing the Shooting Method in Code**\n"
   ]
  },
  {
   "cell_type": "markdown",
   "id": "d903dea0-487d-4d3f-ad56-c7b4b235a333",
   "metadata": {},
   "source": [
    "### 5.3 Finite Difference Method on Uniform Spatial Mesh\n",
    "\n",
    "https://github.com/ziolai/finite_element_electrical_engineering/tree/main  \n",
    "\n",
    "Implementing the finite difference method on a uniform spatial mesh involves discretizing the bi-harmonic equation using second-order central differences (for accuracy) and solving the resulting system of equations iteratively. This method is straightforward to implement and can handle uniform geometries effectively.\n",
    "\n",
    "### 5.4 Finite Element Method on Non-uniform Spatial Mesh\n",
    "\n",
    "The finite element method (FEM) on a non-uniform spatial mesh requires discretizing the domain into smaller, irregular elements. This method is more versatile than finite differences for handling complex geometries and material properties but requires careful implementation of basis functions and assembly of stiffness matrices."
   ]
  },
  {
   "cell_type": "code",
   "execution_count": null,
   "id": "deed961e-4554-4944-972a-6301d6ca1b3a",
   "metadata": {},
   "outputs": [],
   "source": []
  }
 ],
 "metadata": {
  "kernelspec": {
   "display_name": "Python 3 (ipykernel)",
   "language": "python",
   "name": "python3"
  },
  "language_info": {
   "codemirror_mode": {
    "name": "ipython",
    "version": 3
   },
   "file_extension": ".py",
   "mimetype": "text/x-python",
   "name": "python",
   "nbconvert_exporter": "python",
   "pygments_lexer": "ipython3",
   "version": "3.11.7"
  }
 },
 "nbformat": 4,
 "nbformat_minor": 5
}
