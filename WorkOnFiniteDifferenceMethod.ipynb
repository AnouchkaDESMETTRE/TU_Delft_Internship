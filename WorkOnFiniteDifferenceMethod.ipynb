{
 "cells": [
  {
   "cell_type": "markdown",
   "id": "752b0402-2114-4ab1-adee-7d750949a9c4",
   "metadata": {},
   "source": [
    "TU Delft internship of Bordeaux ENSEIRB -MATMECA student Anouchka Desmettre \n",
    "Dates: June 1st - August 31st, 2024 \n",
    "\n",
    "Supervision: D. Lahaye (DIAM - EEMCS Faculty - TU Delft)\n",
    "\n",
    "# Title: Mathematical modelling and numerical simulation of driving buses and vibrations door   "
   ]
  },
  {
   "cell_type": "markdown",
   "id": "8451e0ac-d599-4c6f-8eb0-cbfd51c68238",
   "metadata": {},
   "source": [
    "We begin our exploration by understanding the diffusion equation, starting in one dimension, where we apply finite differences and solve using basic linear algebra techniques. Progressing to two dimensions, we tackle $\\nabla^2 U = 0$, enhancing our approach with 2D grid discretization and comprehensive boundary condition implementations. This prepares us for the complex 2D biharmonic equation, $\\nabla^2(EI \\nabla^2 U) = S$, where higher order discretization methods and nested system solutions are utilized. Each step builds on the previous, gradually increasing our ability to handle more complex PDEs."
   ]
  },
  {
   "cell_type": "markdown",
   "id": "6cc0ad52-208c-401a-a99a-408103e35259",
   "metadata": {},
   "source": [
    "### 1. Diffusion Equation in 1D\n",
    "\n",
    "The diffusion equation is fundamental in modeling the dispersion of heat, particles, or other quantities in a medium. The instationary or time-dependent form of the diffusion equation is given by :\n",
    "$$ \\frac{\\partial T}{\\partial t} = D \\nabla^2 T + S(x, t) $$\n",
    "where \\( T \\) represents the diffusing property (like temperature), \\( D \\) is the diffusion coefficient, and \\( S(x, t) \\) is a source term that can vary with time and space.\n",
    "\n",
    "For our study, we focus on the stationary form of the diffusion equation, where the time-dependent term is absent. We use a Gaussian function for the source term $S$. This function will have a maximum value $A$ representing the magnitude of the force, a width parameter $\\sigma$, and be centered at position $x_0$ :\n",
    "\n",
    "$$ \\frac{\\partial^2 T}{\\partial x^2} = A \\exp \\left( -\\frac{(x - x_0)^2}{2\\sigma^2} \\right) $$"
   ]
  },
  {
   "cell_type": "markdown",
   "id": "ded70aa8-8cf9-4522-b184-dbe65603e750",
   "metadata": {},
   "source": [
    "#### 1.1. Domain Discretization"
   ]
  },
  {
   "cell_type": "markdown",
   "id": "6e387025-f3ac-4b2c-b740-2871133c9027",
   "metadata": {},
   "source": [
    "Suppose the domain is divided into $N$ segments with $N+1$ points ranging from $x_1$ to $x_{N+1}$. \n",
    "\n",
    "We decide to space the nodes uniformly, for a uniform spacing $h$ between points, we have $x_i = x_1 + (i-1)h$."
   ]
  },
  {
   "cell_type": "markdown",
   "id": "fff0df14-4615-45d3-a83d-8f257c9c1c3c",
   "metadata": {},
   "source": [
    "#### 1.2 Finite Difference Formulation"
   ]
  },
  {
   "cell_type": "markdown",
   "id": "22c266ec-9926-42bc-be34-d88f783fd4b6",
   "metadata": {},
   "source": [
    "To approximate the second derivative $\\frac{d^2T}{dx^2}$, we use the centered finite difference approximation:\n",
    "$$ T''_i \\approx \\frac{T_{i-1} - 2T_i + T_{i+1}}{h^2} $$\n",
    "where $T_i$ is the value of $T$ at point $x_i$."
   ]
  },
  {
   "cell_type": "markdown",
   "id": "780759da-1325-46b9-8664-6be39c78f57e",
   "metadata": {},
   "source": [
    "#### 1.3. Assembly of System Matrix"
   ]
  },
  {
   "cell_type": "markdown",
   "id": "638f96dc-3deb-410b-9b72-061268a552ab",
   "metadata": {},
   "source": [
    "Setting up equations for each interior point $i = 2, 3, \\ldots, N$ results in a system of equations :\n",
    "- For $i = 2$: $\\frac{T_1 - 2T_2 + T_3}{h^2} = 0$\n",
    "- For $i = 3$: $\\frac{T_2 - 2T_3 + T_4}{h^2} = 0$\n",
    "- ...\n",
    "- For $i = N$: $\\frac{T_{N-1} - 2T_N + T_{N+1}}{h^2} = 0$\n",
    "\n",
    "We assume that the boundary conditions are specified at points $x_1$ and $x_{N+1}$. For example, if the boundary conditions are of Dirichlet type:\n",
    "- $T_1 = T_a$\n",
    "- $T_{N+1} = T_b$\n",
    "\n",
    "This can be expressed in matrix form $AX = S$, where $A$ is a tridiagonal and its dimensions are : $(N \\times N )$ : \n",
    "$$\n",
    "A = \\frac{1}{h^2}\n",
    "\\begin{bmatrix}\n",
    "1 & 0 & 0 & \\cdots & 0 \\\\\n",
    "1 & -2 & 1 & \\ddots & \\vdots \\\\\n",
    "0 & 1 & -2 & \\ddots & 0 \\\\\n",
    "\\vdots & \\ddots & \\ddots & \\ddots & 1 \\\\\n",
    "0 & \\cdots & 0 & 0 & 1\n",
    "\\end{bmatrix}\n",
    "$$\n",
    "\n",
    "The source vector $S$ incorporates the distributed force or other effects :\n",
    "$$\n",
    "S = \\begin{bmatrix}\n",
    "T_a \\\\ S(x_2) \\\\ \\vdots \\\\ S(x_{N}) \\\\ T_b\n",
    "\\end{bmatrix}\n",
    "$$\n",
    "Here, each entry S(x) corresponds to the source term evaluated at the grid points, which might be a function of position such as $A \\exp \\left( -\\frac{(x_i - x_0)^2}{2\\sigma^2} \\right)$."
   ]
  },
  {
   "cell_type": "markdown",
   "id": "eb4d066b-b89c-48e5-b049-4b0ed2a8bd58",
   "metadata": {},
   "source": [
    "#### 1.5. Solving the Linear System"
   ]
  },
  {
   "cell_type": "markdown",
   "id": "5098968b-dae4-4cc0-b015-7920df955c53",
   "metadata": {},
   "source": [
    "Since matrix $A$ is tridiagonal and symmetric, efficient methods exist for solving this system, such as LU decomposition."
   ]
  },
  {
   "cell_type": "code",
   "execution_count": null,
   "id": "00a5c9ff-a9af-474a-b11a-478cf4fa92fa",
   "metadata": {},
   "outputs": [],
   "source": []
  }
 ],
 "metadata": {
  "kernelspec": {
   "display_name": "Python 3 (ipykernel)",
   "language": "python",
   "name": "python3"
  },
  "language_info": {
   "codemirror_mode": {
    "name": "ipython",
    "version": 3
   },
   "file_extension": ".py",
   "mimetype": "text/x-python",
   "name": "python",
   "nbconvert_exporter": "python",
   "pygments_lexer": "ipython3",
   "version": "3.11.7"
  }
 },
 "nbformat": 4,
 "nbformat_minor": 5
}
